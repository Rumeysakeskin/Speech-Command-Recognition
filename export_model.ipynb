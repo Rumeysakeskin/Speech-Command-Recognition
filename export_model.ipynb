{
 "cells": [
  {
   "cell_type": "code",
   "execution_count": null,
   "id": "b7e7b2c1",
   "metadata": {},
   "outputs": [],
   "source": [
    "import librosa\n",
    "import pytorch_lightning as pl\n",
    "\n",
    "from nemo.collections.asr.models import EncDecClassificationModel\n",
    "from nemo.core.config import hydra_runner\n",
    "from nemo.utils.exp_manager import exp_manager\n",
    "\n",
    "import nemo\n",
    "import nemo.collections.asr as nemo_asr\n",
    "\n",
    "import os\n",
    "from omegaconf import OmegaConf\n",
    "import torch\n",
    "import pytorch_lightning as pl\n",
    "from nemo.utils.exp_manager import exp_manager"
   ]
  },
  {
   "cell_type": "code",
   "execution_count": null,
   "id": "092bf40d",
   "metadata": {},
   "outputs": [],
   "source": [
    "config_path = f\"config/matchboxnet_3x1x64_v1.yaml\"\n",
    "\n",
    "config = OmegaConf.load(config_path)\n",
    "\n",
    "labels = config.model.labels\n",
    "sample_rate = config.sample_rate\n",
    "\n",
    "config.model.train_ds.manifest_filepath = \"/manifest_files/train_manifest.jsonl\"\n",
    "config.model.validation_ds.manifest_filepath = \"/manifest_files/val_manifest.jsonl\"\n",
    "config.model.test_ds.manifest_filepath = \"/manifest_files/test_manifest.jsonl\""
   ]
  },
  {
   "cell_type": "code",
   "execution_count": null,
   "id": "3ddd9526",
   "metadata": {},
   "outputs": [],
   "source": [
    "model_to_load = \"checkpoints/epoch=99-step=49749.ckpt\"\n",
    "\n",
    "asr_model = nemo_asr.models.EncDecClassificationModel(cfg=config.model)\n",
    "asr_model = asr_model.load_from_checkpoint(model_to_load)\n",
    "asr_model.eval()"
   ]
  }
 ],
 "metadata": {
  "kernelspec": {
   "display_name": "Python 3 (ipykernel)",
   "language": "python",
   "name": "python3"
  },
  "language_info": {
   "codemirror_mode": {
    "name": "ipython",
    "version": 3
   },
   "file_extension": ".py",
   "mimetype": "text/x-python",
   "name": "python",
   "nbconvert_exporter": "python",
   "pygments_lexer": "ipython3",
   "version": "3.9.7"
  }
 },
 "nbformat": 4,
 "nbformat_minor": 5
}
